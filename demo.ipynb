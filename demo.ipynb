{
 "cells": [
  {
   "cell_type": "code",
   "execution_count": 1,
   "metadata": {},
   "outputs": [],
   "source": [
    "from networks.LUTDeiT import LUT_DeiT\n",
    "pl_model = LUT_DeiT().load_from_checkpoint(\"/home/yllab/JiaXing/Research/epoch=1-step=98.ckpt\")"
   ]
  },
  {
   "cell_type": "code",
   "execution_count": 2,
   "metadata": {},
   "outputs": [],
   "source": [
    "model = pl_model.model"
   ]
  },
  {
   "cell_type": "code",
   "execution_count": null,
   "metadata": {},
   "outputs": [],
   "source": [
    "print(model)"
   ]
  },
  {
   "cell_type": "code",
   "execution_count": 1,
   "metadata": {},
   "outputs": [],
   "source": [
    "import torch\n",
    "# torch.save(model, \"amm_vit_082.pth\")\n",
    "# model = torch.load(\"amm_vit_082.pth\", map_location=\"cpu\")\n",
    "model = torch.load(\"amm_vit_082.pth\", map_location=\"cpu\")\n",
    "input_tensors = (torch.randn(16, 3, 224, 224),)"
   ]
  },
  {
   "cell_type": "code",
   "execution_count": 2,
   "metadata": {},
   "outputs": [
    {
     "name": "stderr",
     "output_type": "stream",
     "text": [
      "/home/yllab/anaconda3/envs/vlsi39/lib/python3.9/site-packages/torch/__init__.py:1404: TracerWarning: Converting a tensor to a Python boolean might cause the trace to be incorrect. We can't record the data flow of Python values, so this value will be treated as a constant in the future. This means that the trace might not generalize to other inputs!\n",
      "  assert condition, message\n",
      "/home/yllab/JiaXing/Research/operations/amm_conv2d.py:98: TracerWarning: torch.tensor results are registered as constants in the trace. You can safely ignore this warning if you use this function to create tensors out of constant variables that would be the same every time you call this function. In any other case, this might cause the trace to be incorrect.\n",
      "  torch.tensor(min_val).to(lut.device),\n",
      "/home/yllab/JiaXing/Research/operations/amm_conv2d.py:99: TracerWarning: torch.tensor results are registered as constants in the trace. You can safely ignore this warning if you use this function to create tensors out of constant variables that would be the same every time you call this function. In any other case, this might cause the trace to be incorrect.\n",
      "  torch.tensor(max_val).to(lut.device)\n",
      "/home/yllab/anaconda3/envs/vlsi39/lib/python3.9/site-packages/numpy/core/fromnumeric.py:87: TracerWarning: Converting a tensor to a Python integer might cause the trace to be incorrect. We can't record the data flow of Python values, so this value will be treated as a constant in the future. This means that the trace might not generalize to other inputs!\n",
      "  return ufunc.reduce(obj, axis, dtype, out, **passkwargs)\n"
     ]
    }
   ],
   "source": [
    "scripted_model = torch.jit.trace(model, input_tensors).eval()"
   ]
  },
  {
   "cell_type": "code",
   "execution_count": 3,
   "metadata": {},
   "outputs": [
    {
     "name": "stderr",
     "output_type": "stream",
     "text": [
      "  1%|          | 29/3125 [00:53<1:37:23,  1.89s/it]"
     ]
    }
   ],
   "source": [
    "import torch\n",
    "import os\n",
    "from torch.utils.data import DataLoader\n",
    "from torchvision import datasets\n",
    "from timm import create_model\n",
    "from timm.data import resolve_model_data_config, create_transform\n",
    "from tqdm import tqdm\n",
    "def load_data(batchSize, \n",
    "              num_workers,\n",
    "              float_model\n",
    "              ):\n",
    "    batch_size = batchSize\n",
    "    # traindir = os.path.join(\"/work/u1887834/imagenet/\", 'train')\n",
    "    valdir = os.path.join(\"/dataset/imagenet/\", 'val')\n",
    "\n",
    "    data_config = resolve_model_data_config(float_model)\n",
    "    val_transform = create_transform(**data_config, is_training=False)\n",
    "    train_transform = create_transform(**data_config, is_training=True)\n",
    "    train_dataset = datasets.ImageFolder(\n",
    "        valdir,\n",
    "        train_transform\n",
    "        )\n",
    "\n",
    "    val_dataset = datasets.ImageFolder(\n",
    "        valdir,\n",
    "        val_transform\n",
    "        )\n",
    "   \n",
    "    train_loader = DataLoader(\n",
    "        train_dataset, batch_size=batch_size, shuffle=True,\n",
    "        num_workers=num_workers, pin_memory=True, sampler=None)\n",
    "    # train_loader = None\n",
    "    val_loader = DataLoader(\n",
    "        val_dataset, batch_size=batch_size, shuffle=False,\n",
    "        num_workers=num_workers, pin_memory=True, sampler=None)\n",
    "    return val_loader, val_loader\n",
    "model_name = \"deit3_small_patch16_224.fb_in22k_ft_in1k\"\n",
    "float_model = create_model(model_name, pretrained=True)\n",
    "train_loader, val_loader = load_data(\n",
    "        16, \n",
    "        1,\n",
    "        float_model\n",
    "        )\n",
    "correct = 0\n",
    "total = 0\n",
    "\n",
    "# 遍歷測試數據集，並計算Top-1精確度\n",
    "with torch.no_grad():\n",
    "    for data in tqdm(val_loader):\n",
    "        images, labels = data\n",
    "        images, labels = images.to(\"cpu\"), labels.to(\"cpu\")\n",
    "        outputs = model(images)\n",
    "        # print(outputs.shape)\n",
    "        _, predicted = torch.max(outputs, 1)\n",
    "        # print(predicted) # batch one hot of 1000...\n",
    "        # print(labels)\n",
    "        correct += torch.eq(predicted, labels).sum().item()\n",
    "\n",
    "\n",
    "top1_accuracy = (correct / len(val_loader)) * 100.0\n",
    "print(f\"Top-1 Accuracy: {top1_accuracy:.2f}%\")\n",
    "    "
   ]
  },
  {
   "cell_type": "code",
   "execution_count": 4,
   "metadata": {},
   "outputs": [],
   "source": [
    "valdir = os.path.join(\"/dataset/imagenet/\", 'val')\n",
    "\n",
    "data_config = resolve_model_data_config(float_model)\n",
    "val_transform = create_transform(**data_config, is_training=False)\n",
    "val_dataset = datasets.ImageFolder(\n",
    "        valdir,\n",
    "        val_transform\n",
    "        )\n",
    "top1_accuracy = (correct / len(val_dataset)) * 100.0"
   ]
  },
  {
   "cell_type": "code",
   "execution_count": 5,
   "metadata": {},
   "outputs": [
    {
     "name": "stdout",
     "output_type": "stream",
     "text": [
      "Top-1 Accuracy: 82.06%\n"
     ]
    }
   ],
   "source": [
    "print(f\"Top-1 Accuracy: {top1_accuracy:.2f}%\")"
   ]
  }
 ],
 "metadata": {
  "kernelspec": {
   "display_name": "vlsi39",
   "language": "python",
   "name": "python3"
  },
  "language_info": {
   "codemirror_mode": {
    "name": "ipython",
    "version": 3
   },
   "file_extension": ".py",
   "mimetype": "text/x-python",
   "name": "python",
   "nbconvert_exporter": "python",
   "pygments_lexer": "ipython3",
   "version": "3.9.7"
  }
 },
 "nbformat": 4,
 "nbformat_minor": 2
}
